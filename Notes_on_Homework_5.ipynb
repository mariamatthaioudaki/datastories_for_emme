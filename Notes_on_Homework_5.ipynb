{
  "nbformat": 4,
  "nbformat_minor": 0,
  "metadata": {
    "colab": {
      "provenance": [],
      "include_colab_link": true
    },
    "kernelspec": {
      "name": "python3",
      "display_name": "Python 3"
    },
    "language_info": {
      "name": "python"
    }
  },
  "cells": [
    {
      "cell_type": "markdown",
      "metadata": {
        "id": "view-in-github",
        "colab_type": "text"
      },
      "source": [
        "<a href=\"https://colab.research.google.com/github/mariamatthaioudaki/datastories_for_emme/blob/main/Notes_on_Homework_5.ipynb\" target=\"_parent\"><img src=\"https://colab.research.google.com/assets/colab-badge.svg\" alt=\"Open In Colab\"/></a>"
      ]
    },
    {
      "cell_type": "markdown",
      "source": [
        "H for λούπα στην Python είναι ένας τρόπος **επαναληπτικής** εκτέλεσης ενός κομματιού κώδικα.\n",
        "\n",
        "Δηλαδή ένα κομμάτι κώδικα εκτελείται το ίδιο ξανά και ξανά για έναν συγκεκριμένο αριθμό επαναλήψεων.\n",
        "\n",
        "Η σύνταξη της for λούπας αποτελείται από 2 μέρη:"
      ],
      "metadata": {
        "id": "v0QnfhBxQ68L"
      }
    },
    {
      "cell_type": "code",
      "source": [
        "# 1o μέρος:\n",
        "# ορίζει πόσες φορές θα εκτελεστεί ένας κώδικας (μια σειρά εντολών)\n",
        "# π.χ.:\n",
        "for name in names_list: # ορίζουμε ότι ο κώδικας που θα ακολουθήσει, θα εκτελεστεί τόσες φορές, όσο είναι το πλήθος των αντικειμένων στη λίστα names_list\n",
        "# 2o μέρος:\n",
        "# περιλαμβάνει τον κώδικα, δηλαδή τη σειρά των εντολών που θα εκτελεστούν\n",
        "# π.χ.:\n",
        "  first_name = name.split(\" \")[0]\n",
        "  phrase = f\"Dear {first_name}\"\n",
        "  phrasesL.append(phrase)"
      ],
      "metadata": {
        "id": "IU-C7r-d-bvy"
      },
      "execution_count": null,
      "outputs": []
    },
    {
      "cell_type": "markdown",
      "source": [
        "To πρώτο μέρος, «κλείνει» με άνω κάτω τελεία (:)\n",
        "\n",
        "Το δεύτερο μέρος, είναι indented, δηλαδή **εσέχει**.\n",
        "\n",
        "Σκεφτείτε το σαν boolets. Π.χ.:\n",
        "\n",
        "Για κάθε ονοματεπώνυμο στον κατάλογο ονοματεπώνυμων:\n",
        "*   χώρισε το ονοματεπώνυμο με βάση το κενό που χωρίζει το όνομα από το επώνυμο, πάρε την πρώτη λέξη και βάλτη σε μια μεταβλητή που θα λέγεται first_name\n",
        "*   φτιάξε μια φράση που θα αποτελείται από τη λέξη \"Dear\", κενό και την τιμή της μεταβλητής first_name, και αποθήκευσε αυτή τη φράση σε μια μεταβλητή που θα λέγεται phrase\n",
        "*   πρόσθεσε αυτή τη φράση σε μια λίστα που έχει όνομα phrasesL\n",
        "\n"
      ],
      "metadata": {
        "id": "MUN4RSFhUc6A"
      }
    },
    {
      "cell_type": "markdown",
      "source": [
        "O παραπάνω κώδικας, χωρίς τα σχόλια, είναι ο παρακάτω:"
      ],
      "metadata": {
        "id": "8SaObit-Zcxk"
      }
    },
    {
      "cell_type": "code",
      "source": [
        "for name in names_list:\n",
        "  first_name = name.split(\" \")[0]\n",
        "  phrase = f\"Dear {first_name}\"\n",
        "  phrasesL.append(phrase)"
      ],
      "metadata": {
        "colab": {
          "base_uri": "https://localhost:8080/",
          "height": 193
        },
        "id": "098Tv2oQTHbH",
        "outputId": "0e60767e-75a2-4baf-9b83-6fb0c3a91733"
      },
      "execution_count": null,
      "outputs": [
        {
          "output_type": "error",
          "ename": "NameError",
          "evalue": "name 'names_list' is not defined",
          "traceback": [
            "\u001b[0;31m---------------------------------------------------------------------------\u001b[0m",
            "\u001b[0;31mNameError\u001b[0m                                 Traceback (most recent call last)",
            "\u001b[0;32m<ipython-input-1-b9fbcb6d7cb4>\u001b[0m in \u001b[0;36m<cell line: 1>\u001b[0;34m()\u001b[0m\n\u001b[0;32m----> 1\u001b[0;31m \u001b[0;32mfor\u001b[0m \u001b[0mname\u001b[0m \u001b[0;32min\u001b[0m \u001b[0mnames_list\u001b[0m\u001b[0;34m:\u001b[0m\u001b[0;34m\u001b[0m\u001b[0;34m\u001b[0m\u001b[0m\n\u001b[0m\u001b[1;32m      2\u001b[0m   \u001b[0mfirst_name\u001b[0m \u001b[0;34m=\u001b[0m \u001b[0mname\u001b[0m\u001b[0;34m.\u001b[0m\u001b[0msplit\u001b[0m\u001b[0;34m(\u001b[0m\u001b[0;34m\" \"\u001b[0m\u001b[0;34m)\u001b[0m\u001b[0;34m[\u001b[0m\u001b[0;36m0\u001b[0m\u001b[0;34m]\u001b[0m\u001b[0;34m\u001b[0m\u001b[0;34m\u001b[0m\u001b[0m\n\u001b[1;32m      3\u001b[0m   \u001b[0mphrase\u001b[0m \u001b[0;34m=\u001b[0m \u001b[0;34mf\"Dear {first_name}\"\u001b[0m\u001b[0;34m\u001b[0m\u001b[0;34m\u001b[0m\u001b[0m\n\u001b[1;32m      4\u001b[0m   \u001b[0mphrasesL\u001b[0m\u001b[0;34m.\u001b[0m\u001b[0mappend\u001b[0m\u001b[0;34m(\u001b[0m\u001b[0mphrase\u001b[0m\u001b[0;34m)\u001b[0m\u001b[0;34m\u001b[0m\u001b[0;34m\u001b[0m\u001b[0m\n",
            "\u001b[0;31mNameError\u001b[0m: name 'names_list' is not defined"
          ]
        }
      ]
    },
    {
      "cell_type": "markdown",
      "source": [
        "Φυσικά, όταν τον τρέχουμε μας βγάζει NameError, αφού δεν έχουμε ορίσει τη μεταβλητή names_list, (από την οποία λίστα ζητάμε να εφαρμοστούν οι εντολές της λούπας σε κάθε αντικείμενό της)."
      ],
      "metadata": {
        "id": "JGmIwiXB-jTQ"
      }
    },
    {
      "cell_type": "markdown",
      "source": [
        "Άρα, ορίζουμε τη λίστα με τα ονοματεπώνυμα πριν τη λούπα..."
      ],
      "metadata": {
        "id": "2lX3CntF_M0M"
      }
    },
    {
      "cell_type": "code",
      "source": [
        "names_list = [\"James Brown\", \"Peter Green\", \"David Bowie\"]"
      ],
      "metadata": {
        "id": "CQ1DowfnZ_dc"
      },
      "execution_count": null,
      "outputs": []
    },
    {
      "cell_type": "code",
      "source": [
        "for name in names_list:\n",
        "  first_name = name.split(\" \")[0]\n",
        "  phrase = f\"Dear {first_name}\"\n",
        "  phrasesL.append(phrase)"
      ],
      "metadata": {
        "colab": {
          "base_uri": "https://localhost:8080/",
          "height": 176
        },
        "id": "25-zVbhUABxe",
        "outputId": "703ad40b-2e38-4e53-bf06-f5107e16ec86"
      },
      "execution_count": null,
      "outputs": [
        {
          "output_type": "error",
          "ename": "NameError",
          "evalue": "name 'phrasesL' is not defined",
          "traceback": [
            "\u001b[0;31m---------------------------------------------------------------------------\u001b[0m",
            "\u001b[0;31mNameError\u001b[0m                                 Traceback (most recent call last)",
            "\u001b[0;32m<ipython-input-3-b9fbcb6d7cb4>\u001b[0m in \u001b[0;36m<cell line: 1>\u001b[0;34m()\u001b[0m\n\u001b[1;32m      2\u001b[0m   \u001b[0mfirst_name\u001b[0m \u001b[0;34m=\u001b[0m \u001b[0mname\u001b[0m\u001b[0;34m.\u001b[0m\u001b[0msplit\u001b[0m\u001b[0;34m(\u001b[0m\u001b[0;34m\" \"\u001b[0m\u001b[0;34m)\u001b[0m\u001b[0;34m[\u001b[0m\u001b[0;36m0\u001b[0m\u001b[0;34m]\u001b[0m\u001b[0;34m\u001b[0m\u001b[0;34m\u001b[0m\u001b[0m\n\u001b[1;32m      3\u001b[0m   \u001b[0mphrase\u001b[0m \u001b[0;34m=\u001b[0m \u001b[0;34mf\"Dear {first_name}\"\u001b[0m\u001b[0;34m\u001b[0m\u001b[0;34m\u001b[0m\u001b[0m\n\u001b[0;32m----> 4\u001b[0;31m   \u001b[0mphrasesL\u001b[0m\u001b[0;34m.\u001b[0m\u001b[0mappend\u001b[0m\u001b[0;34m(\u001b[0m\u001b[0mphrase\u001b[0m\u001b[0;34m)\u001b[0m\u001b[0;34m\u001b[0m\u001b[0;34m\u001b[0m\u001b[0m\n\u001b[0m",
            "\u001b[0;31mNameError\u001b[0m: name 'phrasesL' is not defined"
          ]
        }
      ]
    },
    {
      "cell_type": "markdown",
      "source": [
        "Φυσικά, μας ξαναβγάζει NameError, γιατί ούτε η λίστα που θα μπαίνουν οι φράσεις έχει οριστεί."
      ],
      "metadata": {
        "id": "OIFZBxn2DrGC"
      }
    },
    {
      "cell_type": "code",
      "source": [
        "names_list = [\"James Brown\", \"Peter Green\", \"David Bowie\"]"
      ],
      "metadata": {
        "id": "h6kkQDXFEALD"
      },
      "execution_count": null,
      "outputs": []
    },
    {
      "cell_type": "code",
      "source": [
        "phrasesL = []"
      ],
      "metadata": {
        "id": "H3gWef5CEETN"
      },
      "execution_count": null,
      "outputs": []
    },
    {
      "cell_type": "code",
      "source": [
        "for name in names_list:\n",
        "  first_name = name.split(\" \")[0]\n",
        "  phrase = f\"Dear {first_name}\"\n",
        "  phrasesL.append(phrase)"
      ],
      "metadata": {
        "id": "gX_MTmL7EIiv"
      },
      "execution_count": null,
      "outputs": []
    },
    {
      "cell_type": "markdown",
      "source": [
        "Ωραία, δεν πετάει error τώρα, αλλά δεν βλέπουμε κάτι στο output.\n",
        "\n",
        "Για να δούμε κάτι, πρέπει να του ζητήσουμε να μας δείξει κάτι."
      ],
      "metadata": {
        "id": "wGmkwkRrENG4"
      }
    },
    {
      "cell_type": "code",
      "source": [
        "print(phrasesL)"
      ],
      "metadata": {
        "colab": {
          "base_uri": "https://localhost:8080/"
        },
        "id": "NbSAa-_TEpou",
        "outputId": "ec4c159b-bb1c-4ce0-bf65-6f643938b850"
      },
      "execution_count": null,
      "outputs": [
        {
          "output_type": "stream",
          "name": "stdout",
          "text": [
            "['Dear James', 'Dear Peter', 'Dear David']\n"
          ]
        }
      ]
    },
    {
      "cell_type": "markdown",
      "source": [
        "Μέσα στη for λούπα, δηλαδή, στον κώδικα που μπαίνει στο 2ο μέρος, γράφονται με εσοχή **όλες** οι εντολές που θέλουμε να εκτελούνται σε όλα τα αντικείμενα της λίστας."
      ],
      "metadata": {
        "id": "se4ZO4TrAq1t"
      }
    },
    {
      "cell_type": "markdown",
      "source": [
        "Αν βάλουμε μόνο την πρώτη εντολή, μέσα στη λούπα, θα επαναληφθεί μόνο η πρώτη εντολή και όχι οι άλλες."
      ],
      "metadata": {
        "id": "T1hMVNlACqUG"
      }
    },
    {
      "cell_type": "code",
      "source": [
        "names_list = [\"John Brown\", \"Peter Green\", \"David Bowie\"]"
      ],
      "metadata": {
        "id": "VY2_XsAKE4Vc"
      },
      "execution_count": null,
      "outputs": []
    },
    {
      "cell_type": "code",
      "source": [
        "phrasesL = []"
      ],
      "metadata": {
        "id": "wffFksFjE5WK"
      },
      "execution_count": null,
      "outputs": []
    },
    {
      "cell_type": "code",
      "source": [
        "for name in names_list:\n",
        "  first_name = name.split(\" \")[0]\n",
        "phrase = f\"Dear {first_name}\"\n",
        "phrasesL.append(phrase)"
      ],
      "metadata": {
        "id": "dMsbfzktAEen"
      },
      "execution_count": null,
      "outputs": []
    },
    {
      "cell_type": "code",
      "source": [
        "print(phrasesL)"
      ],
      "metadata": {
        "colab": {
          "base_uri": "https://localhost:8080/"
        },
        "id": "TF4eyAhVE-fu",
        "outputId": "56f2f656-36c8-4de9-c60a-d80b4219b34f"
      },
      "execution_count": null,
      "outputs": [
        {
          "output_type": "stream",
          "name": "stdout",
          "text": [
            "['Dear David']\n"
          ]
        }
      ]
    },
    {
      "cell_type": "code",
      "source": [
        "names_list = [\"John Brown\", \"Peter Green\", \"David Bowie\"]\n",
        "phrasesL = []\n",
        "\n",
        "for name in names_list:\n",
        "    first_name = name.split(\" \")[0]\n",
        "    phrase = f\"Dear {first_name}\"\n",
        "    phrasesL.append(phrase)\n",
        "\n",
        "print(phrasesL)"
      ],
      "metadata": {
        "id": "HUlL_qAhXUrX",
        "colab": {
          "base_uri": "https://localhost:8080/"
        },
        "outputId": "e8004cce-2c2c-4451-df87-b3c1744bd1f1"
      },
      "execution_count": 1,
      "outputs": [
        {
          "output_type": "stream",
          "name": "stdout",
          "text": [
            "['Dear John', 'Dear Peter', 'Dear David']\n"
          ]
        }
      ]
    }
  ]
}